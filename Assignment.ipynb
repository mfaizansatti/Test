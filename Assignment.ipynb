{
 "cells": [
  {
   "cell_type": "markdown",
   "id": "41e9d640",
   "metadata": {},
   "source": [
    "# Tools for Data Science"
   ]
  },
  {
   "cell_type": "markdown",
   "id": "31397b4a",
   "metadata": {},
   "source": [
    "***"
   ]
  },
  {
   "cell_type": "markdown",
   "id": "77d7757d",
   "metadata": {},
   "source": [
    "Data science tools are used for diving into raw and complicated data (unstructured or structured data) and processing, extracting, and analyzing it to dig out valuable insights by applying different data processing techniques such as statistics, computer science, predictive modeling and analysis, and deep learning."
   ]
  },
  {
   "cell_type": "markdown",
   "id": "93df4b9a",
   "metadata": {},
   "source": [
    "***"
   ]
  },
  {
   "cell_type": "markdown",
   "id": "333e0e10",
   "metadata": {},
   "source": [
    "|Data Science Languages List|\n",
    "|--------------|\n",
    "|Python|\n",
    "|R|\n",
    "|SQL|\n",
    "|Java|\n",
    "|Julia|\n",
    "|Scala|\n",
    "|C/C++|\n",
    "|JavaScript|\n",
    "|Swift|\n",
    "|Go|\n",
    "|MATLAB|\n",
    "|SAS|"
   ]
  },
  {
   "cell_type": "markdown",
   "id": "940bf7b2",
   "metadata": {},
   "source": [
    "***"
   ]
  },
  {
   "cell_type": "markdown",
   "id": "bd7cb9d9",
   "metadata": {},
   "source": [
    "|list of Data Science Libraries|\n",
    "|------------------------------|\n",
    "||TensorFlow|\n",
    "|NumPy|\n",
    "|SciPy| \n",
    "|Pandas|\n",
    "|Matplotlib| \n",
    "|Keras|\n",
    "|SciKit-Learn|\n",
    "|PyTorch|\n",
    "|Scrapy|\n",
    "|BeautifulSoup|"
   ]
  },
  {
   "cell_type": "markdown",
   "id": "0e9cade7",
   "metadata": {},
   "source": [
    "***"
   ]
  },
  {
   "cell_type": "markdown",
   "id": "59da932a",
   "metadata": {},
   "source": [
    "|Data Science Tools|\n",
    "|------------------------------|\n",
    "|RStudio|\n",
    "|Apache Spark|\n",
    "|Apache Hadoop|"
   ]
  },
  {
   "cell_type": "markdown",
   "id": "ae96783c",
   "metadata": {},
   "source": [
    "***"
   ]
  },
  {
   "cell_type": "markdown",
   "id": "7ee85fbd",
   "metadata": {},
   "source": [
    "### Below are a few examples of evaluating arithmetic expressions in Python"
   ]
  },
  {
   "cell_type": "markdown",
   "id": "37beb84d",
   "metadata": {},
   "source": [
    "***"
   ]
  },
  {
   "cell_type": "code",
   "execution_count": 7,
   "id": "79b5bde7",
   "metadata": {},
   "outputs": [
    {
     "data": {
      "text/plain": [
       "17"
      ]
     },
     "execution_count": 7,
     "metadata": {},
     "output_type": "execute_result"
    }
   ],
   "source": [
    "#This a simple arithmetic expression to mutiply then add integers\n",
    "(3*4)+5"
   ]
  },
  {
   "cell_type": "markdown",
   "id": "e3074687",
   "metadata": {},
   "source": [
    "***"
   ]
  },
  {
   "cell_type": "markdown",
   "id": "8c465bad",
   "metadata": {},
   "source": [
    "**Objectives:**\n",
    "- The Point of an Intro Course: Theory vs. Practicality\n",
    "- The Importance of Real-World Data\n",
    "- Ethics Should Not Be an “Aside”"
   ]
  },
  {
   "cell_type": "markdown",
   "id": "4e5e4267",
   "metadata": {},
   "source": [
    "## Aije Egwaikhide \n",
    "\n",
    "Muhammad Faizan Ul Haq Satti"
   ]
  },
  {
   "cell_type": "code",
   "execution_count": null,
   "id": "66662e46",
   "metadata": {},
   "outputs": [],
   "source": []
  }
 ],
 "metadata": {
  "kernelspec": {
   "display_name": "Python 3 (ipykernel)",
   "language": "python",
   "name": "python3"
  },
  "language_info": {
   "codemirror_mode": {
    "name": "ipython",
    "version": 3
   },
   "file_extension": ".py",
   "mimetype": "text/x-python",
   "name": "python",
   "nbconvert_exporter": "python",
   "pygments_lexer": "ipython3",
   "version": "3.11.1"
  }
 },
 "nbformat": 4,
 "nbformat_minor": 5
}
